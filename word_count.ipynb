{
 "cells": [
  {
   "cell_type": "code",
   "execution_count": 0,
   "metadata": {
    "application/vnd.databricks.v1+cell": {
     "cellMetadata": {
      "byteLimit": 2048000,
      "rowLimit": 10000
     },
     "inputWidgets": {},
     "nuid": "e8fcbf5b-d890-47e7-893a-ae73fb973bca",
     "showTitle": false,
     "tableResultSettingsMap": {},
     "title": ""
    }
   },
   "outputs": [
    {
     "output_type": "display_data",
     "data": {
      "text/html": [
       "\n",
       "<H1><center>pySpark Hello World!</center></H1>\n"
      ]
     },
     "metadata": {
      "application/vnd.databricks.v1+output": {
       "addedWidgets": {},
       "arguments": {},
       "data": "\n<H1><center>pySpark Hello World!</center></H1>\n",
       "datasetInfos": [],
       "metadata": {},
       "removedWidgets": [],
       "textData": null,
       "type": "htmlSandbox"
      }
     },
     "output_type": "display_data"
    }
   ],
   "source": [
    "displayHTML(\"\"\"\n",
    "<H1><center>pySpark Hello World!</center></H1>\n",
    "\"\"\"\n",
    ")"
   ]
  },
  {
   "cell_type": "code",
   "execution_count": 0,
   "metadata": {
    "application/vnd.databricks.v1+cell": {
     "cellMetadata": {
      "byteLimit": 2048000,
      "rowLimit": 10000
     },
     "inputWidgets": {},
     "nuid": "e3e5e82d-e95d-41d0-82b0-5e5e83c4c76c",
     "showTitle": false,
     "tableResultSettingsMap": {},
     "title": ""
    }
   },
   "outputs": [],
   "source": []
  },
  {
   "cell_type": "code",
   "execution_count": 0,
   "metadata": {
    "application/vnd.databricks.v1+cell": {
     "cellMetadata": {
      "byteLimit": 2048000,
      "rowLimit": 10000
     },
     "inputWidgets": {},
     "nuid": "5099b1eb-a774-43a1-ba3f-373b4567cb9b",
     "showTitle": true,
     "tableResultSettingsMap": {},
     "title": "Sample dataset"
    }
   },
   "outputs": [
    {
     "output_type": "display_data",
     "data": {
      "text/html": [
       "<style scoped>\n",
       "  .ansiout {\n",
       "    display: block;\n",
       "    unicode-bidi: embed;\n",
       "    white-space: pre-wrap;\n",
       "    word-wrap: break-word;\n",
       "    word-break: break-all;\n",
       "    font-family: \"Menlo\", \"Monaco\", \"Consolas\", \"Ubuntu Mono\", \"Source Code Pro\", monospace;\n",
       "    font-size: 13px;\n",
       "    color: #555;\n",
       "    margin-left: 4px;\n",
       "    line-height: 19px;\n",
       "  }\n",
       "</style>\n",
       "<div class=\"ansiout\">TXT test file\n",
       "Purpose: Provide example of this file type\n",
       "Document file type: TXT\n",
       "Version: 1.0\n",
       "Remark:\n",
       "\n",
       "Example content:\n",
       "The names &quot;John Doe&quot; for males, &quot;Jane Doe&quot; or &quot;Jane Roe&quot; for females, or &quot;Jonnie Doe&quot; and &quot;Janie Doe&quot; for children, or just &quot;Doe&quot; non-gender-specifically are used as placeholder names for a party whose true identity is unknown or must be withheld in a legal action, case, or discussion. The names are also used to refer to acorpse or hospital patient whose identity is unknown. This practice is widely used in the United States and Canada, but is rarely used in other English-speaking countries including the United Kingdom itself, from where the use of &quot;John Doe&quot; in a legal context originates. The names Joe Bloggs or John Smith are used in the UK instead, as well as in Australia and New Zealand.\n",
       "\n",
       "John Doe is sometimes used to refer to a typical male in other contexts as well, in a similar manner to John Q. Public, known in Great Britain as Joe Public, John Smith or Joe Bloggs. For example, the first name listed on a form is often John Doe, along with a fictional address or other fictional information to provide an example of how to fill in the form. The name is also used frequently in popular culture, for example in the Frank Capra film Meet John Doe. John Doe was also the name of a 2002 American television series.\n",
       "\n",
       "Similarly, a child or baby whose identity is unknown may be referred to as Baby Doe. A notorious murder case in Kansas City, Missouri, referred to the baby victim as Precious Doe. Other unidentified female murder victims are Cali Doe and Princess Doe. Additional persons may be called James Doe, Judy Doe, etc. However, to avoid possible confusion, if two anonymous or unknown parties are cited in a specific case or action, the surnames Doe and Roe may be used simultaneously; for example, &quot;John Doe v. Jane Roe&quot;. If several anonymous parties are referenced, they may simply be labelled John Doe #1, John Doe #2, etc. (the U.S. Operation Delego cited 21 (numbered) &quot;John Doe&quot;s) or labelled with other variants of Doe / Roe / Poe / etc. Other early alternatives such as John Stiles and Richard Miles are now rarely used, and Mary Major has been used in some American federal cases.\n",
       "\n",
       "\n",
       "\n",
       "File created by https://www.online-convert.com\n",
       "More example files: https://www.online-convert.com/file-type\n",
       "Text of Example content: Wikipedia (https://en.wikipedia.org/wiki/John_Doe)\n",
       "License: Attribution-ShareAlike 4.0 (https://creativecommons.org/licenses/by-sa/4.0/)\n",
       "\n",
       "Feel free to use and share the file according to the license above.\n",
       "</div>"
      ]
     },
     "metadata": {
      "application/vnd.databricks.v1+output": {
       "addedWidgets": {},
       "arguments": {},
       "data": "<div class=\"ansiout\">TXT test file\nPurpose: Provide example of this file type\nDocument file type: TXT\nVersion: 1.0\nRemark:\n\nExample content:\nThe names &quot;John Doe&quot; for males, &quot;Jane Doe&quot; or &quot;Jane Roe&quot; for females, or &quot;Jonnie Doe&quot; and &quot;Janie Doe&quot; for children, or just &quot;Doe&quot; non-gender-specifically are used as placeholder names for a party whose true identity is unknown or must be withheld in a legal action, case, or discussion. The names are also used to refer to acorpse or hospital patient whose identity is unknown. This practice is widely used in the United States and Canada, but is rarely used in other English-speaking countries including the United Kingdom itself, from where the use of &quot;John Doe&quot; in a legal context originates. The names Joe Bloggs or John Smith are used in the UK instead, as well as in Australia and New Zealand.\n\nJohn Doe is sometimes used to refer to a typical male in other contexts as well, in a similar manner to John Q. Public, known in Great Britain as Joe Public, John Smith or Joe Bloggs. For example, the first name listed on a form is often John Doe, along with a fictional address or other fictional information to provide an example of how to fill in the form. The name is also used frequently in popular culture, for example in the Frank Capra film Meet John Doe. John Doe was also the name of a 2002 American television series.\n\nSimilarly, a child or baby whose identity is unknown may be referred to as Baby Doe. A notorious murder case in Kansas City, Missouri, referred to the baby victim as Precious Doe. Other unidentified female murder victims are Cali Doe and Princess Doe. Additional persons may be called James Doe, Judy Doe, etc. However, to avoid possible confusion, if two anonymous or unknown parties are cited in a specific case or action, the surnames Doe and Roe may be used simultaneously; for example, &quot;John Doe v. Jane Roe&quot;. If several anonymous parties are referenced, they may simply be labelled John Doe #1, John Doe #2, etc. (the U.S. Operation Delego cited 21 (numbered) &quot;John Doe&quot;s) or labelled with other variants of Doe / Roe / Poe / etc. Other early alternatives such as John Stiles and Richard Miles are now rarely used, and Mary Major has been used in some American federal cases.\n\n\n\nFile created by https://www.online-convert.com\nMore example files: https://www.online-convert.com/file-type\nText of Example content: Wikipedia (https://en.wikipedia.org/wiki/John_Doe)\nLicense: Attribution-ShareAlike 4.0 (https://creativecommons.org/licenses/by-sa/4.0/)\n\nFeel free to use and share the file according to the license above.\n</div>",
       "datasetInfos": [],
       "metadata": {
        "isDbfsCommandResult": false
       },
       "removedWidgets": [],
       "type": "html"
      }
     },
     "output_type": "display_data"
    }
   ],
   "source": [
    "%fs head dbfs:/FileStore/tables/sample_text_file.txt"
   ]
  },
  {
   "cell_type": "code",
   "execution_count": 0,
   "metadata": {
    "application/vnd.databricks.v1+cell": {
     "cellMetadata": {
      "byteLimit": 2048000,
      "rowLimit": 10000
     },
     "inputWidgets": {},
     "nuid": "0d291950-b31d-4954-9952-da9e3702cc27",
     "showTitle": true,
     "tableResultSettingsMap": {},
     "title": "Read as dataframe"
    }
   },
   "outputs": [],
   "source": [
    "df=spark.read.text(\"dbfs:/FileStore/tables/sample_text_file.txt\")"
   ]
  },
  {
   "cell_type": "code",
   "execution_count": 0,
   "metadata": {
    "application/vnd.databricks.v1+cell": {
     "cellMetadata": {
      "byteLimit": 2048000,
      "rowLimit": 10000
     },
     "inputWidgets": {},
     "nuid": "90270a98-f030-429d-9014-7cc22a75e63c",
     "showTitle": false,
     "tableResultSettingsMap": {},
     "title": ""
    }
   },
   "outputs": [
    {
     "output_type": "stream",
     "name": "stdout",
     "output_type": "stream",
     "text": [
      "+-----------------------------------------------------------------------------------------------------------------------------------------------------------------------------------------------------------------------------------------------------------------------------------------------------------------------------------------------------------------------------------------------------------------------------------------------------------------------------------------------------------------------------------------------------------------------------------------------------------------------------------------------------------------------------------------------------------------------------------------------------------------------------------------------------------------------------------------------------------------------------------------------------------------+\n|value                                                                                                                                                                                                                                                                                                                                                                                                                                                                                                                                                                                                                                                                                                                                                                                                                                                                                                            |\n+-----------------------------------------------------------------------------------------------------------------------------------------------------------------------------------------------------------------------------------------------------------------------------------------------------------------------------------------------------------------------------------------------------------------------------------------------------------------------------------------------------------------------------------------------------------------------------------------------------------------------------------------------------------------------------------------------------------------------------------------------------------------------------------------------------------------------------------------------------------------------------------------------------------------+\n|TXT test file                                                                                                                                                                                                                                                                                                                                                                                                                                                                                                                                                                                                                                                                                                                                                                                                                                                                                                    |\n|Purpose: Provide example of this file type                                                                                                                                                                                                                                                                                                                                                                                                                                                                                                                                                                                                                                                                                                                                                                                                                                                                       |\n|Document file type: TXT                                                                                                                                                                                                                                                                                                                                                                                                                                                                                                                                                                                                                                                                                                                                                                                                                                                                                          |\n|Version: 1.0                                                                                                                                                                                                                                                                                                                                                                                                                                                                                                                                                                                                                                                                                                                                                                                                                                                                                                     |\n|Remark:                                                                                                                                                                                                                                                                                                                                                                                                                                                                                                                                                                                                                                                                                                                                                                                                                                                                                                          |\n|                                                                                                                                                                                                                                                                                                                                                                                                                                                                                                                                                                                                                                                                                                                                                                                                                                                                                                                 |\n|Example content:                                                                                                                                                                                                                                                                                                                                                                                                                                                                                                                                                                                                                                                                                                                                                                                                                                                                                                 |\n|The names \"John Doe\" for males, \"Jane Doe\" or \"Jane Roe\" for females, or \"Jonnie Doe\" and \"Janie Doe\" for children, or just \"Doe\" non-gender-specifically are used as placeholder names for a party whose true identity is unknown or must be withheld in a legal action, case, or discussion. The names are also used to refer to acorpse or hospital patient whose identity is unknown. This practice is widely used in the United States and Canada, but is rarely used in other English-speaking countries including the United Kingdom itself, from where the use of \"John Doe\" in a legal context originates. The names Joe Bloggs or John Smith are used in the UK instead, as well as in Australia and New Zealand.                                                                                                                                                                                      |\n|                                                                                                                                                                                                                                                                                                                                                                                                                                                                                                                                                                                                                                                                                                                                                                                                                                                                                                                 |\n|John Doe is sometimes used to refer to a typical male in other contexts as well, in a similar manner to John Q. Public, known in Great Britain as Joe Public, John Smith or Joe Bloggs. For example, the first name listed on a form is often John Doe, along with a fictional address or other fictional information to provide an example of how to fill in the form. The name is also used frequently in popular culture, for example in the Frank Capra film Meet John Doe. John Doe was also the name of a 2002 American television series.                                                                                                                                                                                                                                                                                                                                                                 |\n|                                                                                                                                                                                                                                                                                                                                                                                                                                                                                                                                                                                                                                                                                                                                                                                                                                                                                                                 |\n|Similarly, a child or baby whose identity is unknown may be referred to as Baby Doe. A notorious murder case in Kansas City, Missouri, referred to the baby victim as Precious Doe. Other unidentified female murder victims are Cali Doe and Princess Doe. Additional persons may be called James Doe, Judy Doe, etc. However, to avoid possible confusion, if two anonymous or unknown parties are cited in a specific case or action, the surnames Doe and Roe may be used simultaneously; for example, \"John Doe v. Jane Roe\". If several anonymous parties are referenced, they may simply be labelled John Doe #1, John Doe #2, etc. (the U.S. Operation Delego cited 21 (numbered) \"John Doe\"s) or labelled with other variants of Doe / Roe / Poe / etc. Other early alternatives such as John Stiles and Richard Miles are now rarely used, and Mary Major has been used in some American federal cases.|\n|                                                                                                                                                                                                                                                                                                                                                                                                                                                                                                                                                                                                                                                                                                                                                                                                                                                                                                                 |\n|                                                                                                                                                                                                                                                                                                                                                                                                                                                                                                                                                                                                                                                                                                                                                                                                                                                                                                                 |\n|                                                                                                                                                                                                                                                                                                                                                                                                                                                                                                                                                                                                                                                                                                                                                                                                                                                                                                                 |\n|File created by https://www.online-convert.com                                                                                                                                                                                                                                                                                                                                                                                                                                                                                                                                                                                                                                                                                                                                                                                                                                                                   |\n|More example files: https://www.online-convert.com/file-type                                                                                                                                                                                                                                                                                                                                                                                                                                                                                                                                                                                                                                                                                                                                                                                                                                                     |\n|Text of Example content: Wikipedia (https://en.wikipedia.org/wiki/John_Doe)                                                                                                                                                                                                                                                                                                                                                                                                                                                                                                                                                                                                                                                                                                                                                                                                                                      |\n|License: Attribution-ShareAlike 4.0 (https://creativecommons.org/licenses/by-sa/4.0/)                                                                                                                                                                                                                                                                                                                                                                                                                                                                                                                                                                                                                                                                                                                                                                                                                            |\n|                                                                                                                                                                                                                                                                                                                                                                                                                                                                                                                                                                                                                                                                                                                                                                                                                                                                                                                 |\n+-----------------------------------------------------------------------------------------------------------------------------------------------------------------------------------------------------------------------------------------------------------------------------------------------------------------------------------------------------------------------------------------------------------------------------------------------------------------------------------------------------------------------------------------------------------------------------------------------------------------------------------------------------------------------------------------------------------------------------------------------------------------------------------------------------------------------------------------------------------------------------------------------------------------+\nonly showing top 20 rows\n\n"
     ]
    }
   ],
   "source": [
    "df.show(truncate=False)"
   ]
  },
  {
   "cell_type": "code",
   "execution_count": 0,
   "metadata": {
    "application/vnd.databricks.v1+cell": {
     "cellMetadata": {
      "byteLimit": 2048000,
      "rowLimit": 10000
     },
     "inputWidgets": {},
     "nuid": "f05bdfc0-21e1-42a4-b04e-a75928b74689",
     "showTitle": false,
     "tableResultSettingsMap": {},
     "title": ""
    }
   },
   "outputs": [
    {
     "output_type": "display_data",
     "data": {
      "text/html": [
       "<style scoped>\n",
       "  .table-result-container {\n",
       "    max-height: 300px;\n",
       "    overflow: auto;\n",
       "  }\n",
       "  table, th, td {\n",
       "    border: 1px solid black;\n",
       "    border-collapse: collapse;\n",
       "  }\n",
       "  th, td {\n",
       "    padding: 5px;\n",
       "  }\n",
       "  th {\n",
       "    text-align: left;\n",
       "  }\n",
       "</style><div class='table-result-container'><table class='table-result'><thead style='background-color: white'><tr><th>word</th><th>count</th></tr></thead><tbody><tr><td>in</td><td>15</td></tr><tr><td>or</td><td>13</td></tr><tr><td>the</td><td>12</td></tr><tr><td>to</td><td>12</td></tr><tr><td>John</td><td>10</td></tr><tr><td>a</td><td>10</td></tr><tr><td>used</td><td>9</td></tr><tr><td>is</td><td>8</td></tr><tr><td>Doe</td><td>8</td></tr><tr><td>and</td><td>8</td></tr><tr><td>as</td><td>8</td></tr><tr><td>are</td><td>7</td></tr><tr><td></td><td>7</td></tr><tr><td>for</td><td>6</td></tr><tr><td>of</td><td>6</td></tr><tr><td>be</td><td>5</td></tr><tr><td>Doe\"</td><td>5</td></tr><tr><td>example</td><td>4</td></tr><tr><td>\"John</td><td>4</td></tr><tr><td>may</td><td>4</td></tr><tr><td>Doe.</td><td>4</td></tr><tr><td>other</td><td>4</td></tr><tr><td>names</td><td>4</td></tr><tr><td>file</td><td>4</td></tr><tr><td>The</td><td>4</td></tr><tr><td>name</td><td>3</td></tr><tr><td>unknown</td><td>3</td></tr><tr><td>Joe</td><td>3</td></tr><tr><td>whose</td><td>3</td></tr><tr><td>identity</td><td>3</td></tr><tr><td>/</td><td>3</td></tr><tr><td>etc.</td><td>3</td></tr><tr><td>Doe,</td><td>3</td></tr><tr><td>also</td><td>3</td></tr><tr><td>legal</td><td>2</td></tr><tr><td>action,</td><td>2</td></tr><tr><td>Smith</td><td>2</td></tr><tr><td>Example</td><td>2</td></tr><tr><td>with</td><td>2</td></tr><tr><td>TXT</td><td>2</td></tr><tr><td>murder</td><td>2</td></tr><tr><td>Other</td><td>2</td></tr><tr><td>anonymous</td><td>2</td></tr><tr><td>use</td><td>2</td></tr><tr><td>cited</td><td>2</td></tr><tr><td>labelled</td><td>2</td></tr><tr><td>Public,</td><td>2</td></tr><tr><td>refer</td><td>2</td></tr><tr><td>United</td><td>2</td></tr><tr><td>parties</td><td>2</td></tr><tr><td>fictional</td><td>2</td></tr><tr><td>\"Jane</td><td>2</td></tr><tr><td>case</td><td>2</td></tr><tr><td>Roe</td><td>2</td></tr><tr><td>baby</td><td>2</td></tr><tr><td>content:</td><td>2</td></tr><tr><td>example,</td><td>2</td></tr><tr><td>referred</td><td>2</td></tr><tr><td>rarely</td><td>2</td></tr><tr><td>American</td><td>2</td></tr><tr><td>some</td><td>1</td></tr><tr><td>1.0</td><td>1</td></tr><tr><td>withheld</td><td>1</td></tr><tr><td>often</td><td>1</td></tr><tr><td>television</td><td>1</td></tr><tr><td>simultaneously;</td><td>1</td></tr><tr><td>countries</td><td>1</td></tr><tr><td>film</td><td>1</td></tr><tr><td>If</td><td>1</td></tr><tr><td>two</td><td>1</td></tr><tr><td>Delego</td><td>1</td></tr><tr><td>Mary</td><td>1</td></tr><tr><td>well,</td><td>1</td></tr><tr><td>Bloggs.</td><td>1</td></tr><tr><td>James</td><td>1</td></tr><tr><td>unknown.</td><td>1</td></tr><tr><td>Great</td><td>1</td></tr><tr><td>Similarly,</td><td>1</td></tr><tr><td>Britain</td><td>1</td></tr><tr><td>(numbered)</td><td>1</td></tr><tr><td>(https://creativecommons.org/licenses/by-sa/4.0/)</td><td>1</td></tr><tr><td>\"Jonnie</td><td>1</td></tr><tr><td>form</td><td>1</td></tr><tr><td>License:</td><td>1</td></tr><tr><td>must</td><td>1</td></tr><tr><td>by</td><td>1</td></tr><tr><td>typical</td><td>1</td></tr><tr><td>Precious</td><td>1</td></tr><tr><td>widely</td><td>1</td></tr><tr><td>context</td><td>1</td></tr><tr><td>above.</td><td>1</td></tr><tr><td>popular</td><td>1</td></tr><tr><td>alternatives</td><td>1</td></tr><tr><td>#1,</td><td>1</td></tr><tr><td>Capra</td><td>1</td></tr><tr><td>was</td><td>1</td></tr><tr><td>along</td><td>1</td></tr><tr><td>how</td><td>1</td></tr><tr><td>placeholder</td><td>1</td></tr><tr><td>surnames</td><td>1</td></tr><tr><td>Poe</td><td>1</td></tr><tr><td>States</td><td>1</td></tr><tr><td>they</td><td>1</td></tr><tr><td>(the</td><td>1</td></tr><tr><td>according</td><td>1</td></tr><tr><td>Baby</td><td>1</td></tr><tr><td>v.</td><td>1</td></tr><tr><td>confusion,</td><td>1</td></tr><tr><td>Version:</td><td>1</td></tr><tr><td>2002</td><td>1</td></tr><tr><td>type:</td><td>1</td></tr><tr><td>originates.</td><td>1</td></tr><tr><td>specific</td><td>1</td></tr><tr><td>acorpse</td><td>1</td></tr><tr><td>discussion.</td><td>1</td></tr><tr><td>created</td><td>1</td></tr><tr><td>female</td><td>1</td></tr><tr><td>federal</td><td>1</td></tr><tr><td>Canada,</td><td>1</td></tr><tr><td>persons</td><td>1</td></tr><tr><td>victim</td><td>1</td></tr><tr><td>However,</td><td>1</td></tr><tr><td>such</td><td>1</td></tr><tr><td>cases.</td><td>1</td></tr><tr><td>Text</td><td>1</td></tr><tr><td>children,</td><td>1</td></tr><tr><td>free</td><td>1</td></tr><tr><td>Meet</td><td>1</td></tr><tr><td>victims</td><td>1</td></tr><tr><td>practice</td><td>1</td></tr><tr><td>Judy</td><td>1</td></tr><tr><td>Wikipedia</td><td>1</td></tr><tr><td>Attribution-ShareAlike</td><td>1</td></tr><tr><td>on</td><td>1</td></tr><tr><td>but</td><td>1</td></tr><tr><td>referenced,</td><td>1</td></tr><tr><td>Princess</td><td>1</td></tr><tr><td>Roe\".</td><td>1</td></tr><tr><td>provide</td><td>1</td></tr><tr><td>variants</td><td>1</td></tr><tr><td>Provide</td><td>1</td></tr><tr><td>Q.</td><td>1</td></tr><tr><td>File</td><td>1</td></tr><tr><td>instead,</td><td>1</td></tr><tr><td>party</td><td>1</td></tr><tr><td>Document</td><td>1</td></tr><tr><td>manner</td><td>1</td></tr><tr><td>now</td><td>1</td></tr><tr><td>possible</td><td>1</td></tr><tr><td>Additional</td><td>1</td></tr><tr><td>https://www.online-convert.com</td><td>1</td></tr><tr><td>A</td><td>1</td></tr><tr><td>just</td><td>1</td></tr><tr><td>sometimes</td><td>1</td></tr><tr><td>4.0</td><td>1</td></tr><tr><td>avoid</td><td>1</td></tr><tr><td>similar</td><td>1</td></tr><tr><td>Operation</td><td>1</td></tr><tr><td>(https://en.wikipedia.org/wiki/John_Doe)</td><td>1</td></tr><tr><td>#2,</td><td>1</td></tr><tr><td>Cali</td><td>1</td></tr><tr><td>simply</td><td>1</td></tr><tr><td>Zealand.</td><td>1</td></tr><tr><td>from</td><td>1</td></tr><tr><td>used,</td><td>1</td></tr><tr><td>More</td><td>1</td></tr><tr><td>Richard</td><td>1</td></tr><tr><td>type</td><td>1</td></tr><tr><td>fill</td><td>1</td></tr><tr><td>case,</td><td>1</td></tr><tr><td>Miles</td><td>1</td></tr><tr><td>Remark:</td><td>1</td></tr><tr><td>males,</td><td>1</td></tr><tr><td>patient</td><td>1</td></tr><tr><td>listed</td><td>1</td></tr><tr><td>hospital</td><td>1</td></tr><tr><td>City,</td><td>1</td></tr><tr><td>U.S.</td><td>1</td></tr><tr><td>\"Janie</td><td>1</td></tr><tr><td>UK</td><td>1</td></tr><tr><td>male</td><td>1</td></tr><tr><td>Kansas</td><td>1</td></tr><tr><td>known</td><td>1</td></tr><tr><td>child</td><td>1</td></tr><tr><td>been</td><td>1</td></tr><tr><td>where</td><td>1</td></tr><tr><td>https://www.online-convert.com/file-type</td><td>1</td></tr><tr><td>Purpose:</td><td>1</td></tr><tr><td>series.</td><td>1</td></tr><tr><td>several</td><td>1</td></tr><tr><td>an</td><td>1</td></tr><tr><td>including</td><td>1</td></tr><tr><td>itself,</td><td>1</td></tr><tr><td>well</td><td>1</td></tr><tr><td>culture,</td><td>1</td></tr><tr><td>For</td><td>1</td></tr><tr><td>Kingdom</td><td>1</td></tr><tr><td>\"Doe\"</td><td>1</td></tr><tr><td>Stiles</td><td>1</td></tr><tr><td>This</td><td>1</td></tr><tr><td>notorious</td><td>1</td></tr><tr><td>New</td><td>1</td></tr><tr><td>English-speaking</td><td>1</td></tr><tr><td>Missouri,</td><td>1</td></tr><tr><td>non-gender-specifically</td><td>1</td></tr><tr><td>if</td><td>1</td></tr><tr><td>Jane</td><td>1</td></tr><tr><td>early</td><td>1</td></tr><tr><td>this</td><td>1</td></tr><tr><td>Australia</td><td>1</td></tr><tr><td>21</td><td>1</td></tr><tr><td>Major</td><td>1</td></tr><tr><td>information</td><td>1</td></tr><tr><td>has</td><td>1</td></tr><tr><td>females,</td><td>1</td></tr><tr><td>first</td><td>1</td></tr><tr><td>test</td><td>1</td></tr><tr><td>license</td><td>1</td></tr><tr><td>true</td><td>1</td></tr><tr><td>contexts</td><td>1</td></tr><tr><td>form.</td><td>1</td></tr><tr><td>unidentified</td><td>1</td></tr><tr><td>Frank</td><td>1</td></tr><tr><td>Feel</td><td>1</td></tr><tr><td>Roe\"</td><td>1</td></tr><tr><td>Doe\"s)</td><td>1</td></tr><tr><td>share</td><td>1</td></tr><tr><td>Bloggs</td><td>1</td></tr><tr><td>files:</td><td>1</td></tr><tr><td>address</td><td>1</td></tr><tr><td>frequently</td><td>1</td></tr><tr><td>called</td><td>1</td></tr></tbody></table></div>"
      ]
     },
     "metadata": {
      "application/vnd.databricks.v1+output": {
       "addedWidgets": {},
       "aggData": [],
       "aggError": "",
       "aggOverflow": false,
       "aggSchema": [],
       "aggSeriesLimitReached": false,
       "aggType": "",
       "arguments": {},
       "columnCustomDisplayInfos": {},
       "data": [
        [
         "in",
         15
        ],
        [
         "or",
         13
        ],
        [
         "the",
         12
        ],
        [
         "to",
         12
        ],
        [
         "John",
         10
        ],
        [
         "a",
         10
        ],
        [
         "used",
         9
        ],
        [
         "is",
         8
        ],
        [
         "Doe",
         8
        ],
        [
         "and",
         8
        ],
        [
         "as",
         8
        ],
        [
         "are",
         7
        ],
        [
         "",
         7
        ],
        [
         "for",
         6
        ],
        [
         "of",
         6
        ],
        [
         "be",
         5
        ],
        [
         "Doe\"",
         5
        ],
        [
         "example",
         4
        ],
        [
         "\"John",
         4
        ],
        [
         "may",
         4
        ],
        [
         "Doe.",
         4
        ],
        [
         "other",
         4
        ],
        [
         "names",
         4
        ],
        [
         "file",
         4
        ],
        [
         "The",
         4
        ],
        [
         "name",
         3
        ],
        [
         "unknown",
         3
        ],
        [
         "Joe",
         3
        ],
        [
         "whose",
         3
        ],
        [
         "identity",
         3
        ],
        [
         "/",
         3
        ],
        [
         "etc.",
         3
        ],
        [
         "Doe,",
         3
        ],
        [
         "also",
         3
        ],
        [
         "legal",
         2
        ],
        [
         "action,",
         2
        ],
        [
         "Smith",
         2
        ],
        [
         "Example",
         2
        ],
        [
         "with",
         2
        ],
        [
         "TXT",
         2
        ],
        [
         "murder",
         2
        ],
        [
         "Other",
         2
        ],
        [
         "anonymous",
         2
        ],
        [
         "use",
         2
        ],
        [
         "cited",
         2
        ],
        [
         "labelled",
         2
        ],
        [
         "Public,",
         2
        ],
        [
         "refer",
         2
        ],
        [
         "United",
         2
        ],
        [
         "parties",
         2
        ],
        [
         "fictional",
         2
        ],
        [
         "\"Jane",
         2
        ],
        [
         "case",
         2
        ],
        [
         "Roe",
         2
        ],
        [
         "baby",
         2
        ],
        [
         "content:",
         2
        ],
        [
         "example,",
         2
        ],
        [
         "referred",
         2
        ],
        [
         "rarely",
         2
        ],
        [
         "American",
         2
        ],
        [
         "some",
         1
        ],
        [
         "1.0",
         1
        ],
        [
         "withheld",
         1
        ],
        [
         "often",
         1
        ],
        [
         "television",
         1
        ],
        [
         "simultaneously;",
         1
        ],
        [
         "countries",
         1
        ],
        [
         "film",
         1
        ],
        [
         "If",
         1
        ],
        [
         "two",
         1
        ],
        [
         "Delego",
         1
        ],
        [
         "Mary",
         1
        ],
        [
         "well,",
         1
        ],
        [
         "Bloggs.",
         1
        ],
        [
         "James",
         1
        ],
        [
         "unknown.",
         1
        ],
        [
         "Great",
         1
        ],
        [
         "Similarly,",
         1
        ],
        [
         "Britain",
         1
        ],
        [
         "(numbered)",
         1
        ],
        [
         "(https://creativecommons.org/licenses/by-sa/4.0/)",
         1
        ],
        [
         "\"Jonnie",
         1
        ],
        [
         "form",
         1
        ],
        [
         "License:",
         1
        ],
        [
         "must",
         1
        ],
        [
         "by",
         1
        ],
        [
         "typical",
         1
        ],
        [
         "Precious",
         1
        ],
        [
         "widely",
         1
        ],
        [
         "context",
         1
        ],
        [
         "above.",
         1
        ],
        [
         "popular",
         1
        ],
        [
         "alternatives",
         1
        ],
        [
         "#1,",
         1
        ],
        [
         "Capra",
         1
        ],
        [
         "was",
         1
        ],
        [
         "along",
         1
        ],
        [
         "how",
         1
        ],
        [
         "placeholder",
         1
        ],
        [
         "surnames",
         1
        ],
        [
         "Poe",
         1
        ],
        [
         "States",
         1
        ],
        [
         "they",
         1
        ],
        [
         "(the",
         1
        ],
        [
         "according",
         1
        ],
        [
         "Baby",
         1
        ],
        [
         "v.",
         1
        ],
        [
         "confusion,",
         1
        ],
        [
         "Version:",
         1
        ],
        [
         "2002",
         1
        ],
        [
         "type:",
         1
        ],
        [
         "originates.",
         1
        ],
        [
         "specific",
         1
        ],
        [
         "acorpse",
         1
        ],
        [
         "discussion.",
         1
        ],
        [
         "created",
         1
        ],
        [
         "female",
         1
        ],
        [
         "federal",
         1
        ],
        [
         "Canada,",
         1
        ],
        [
         "persons",
         1
        ],
        [
         "victim",
         1
        ],
        [
         "However,",
         1
        ],
        [
         "such",
         1
        ],
        [
         "cases.",
         1
        ],
        [
         "Text",
         1
        ],
        [
         "children,",
         1
        ],
        [
         "free",
         1
        ],
        [
         "Meet",
         1
        ],
        [
         "victims",
         1
        ],
        [
         "practice",
         1
        ],
        [
         "Judy",
         1
        ],
        [
         "Wikipedia",
         1
        ],
        [
         "Attribution-ShareAlike",
         1
        ],
        [
         "on",
         1
        ],
        [
         "but",
         1
        ],
        [
         "referenced,",
         1
        ],
        [
         "Princess",
         1
        ],
        [
         "Roe\".",
         1
        ],
        [
         "provide",
         1
        ],
        [
         "variants",
         1
        ],
        [
         "Provide",
         1
        ],
        [
         "Q.",
         1
        ],
        [
         "File",
         1
        ],
        [
         "instead,",
         1
        ],
        [
         "party",
         1
        ],
        [
         "Document",
         1
        ],
        [
         "manner",
         1
        ],
        [
         "now",
         1
        ],
        [
         "possible",
         1
        ],
        [
         "Additional",
         1
        ],
        [
         "https://www.online-convert.com",
         1
        ],
        [
         "A",
         1
        ],
        [
         "just",
         1
        ],
        [
         "sometimes",
         1
        ],
        [
         "4.0",
         1
        ],
        [
         "avoid",
         1
        ],
        [
         "similar",
         1
        ],
        [
         "Operation",
         1
        ],
        [
         "(https://en.wikipedia.org/wiki/John_Doe)",
         1
        ],
        [
         "#2,",
         1
        ],
        [
         "Cali",
         1
        ],
        [
         "simply",
         1
        ],
        [
         "Zealand.",
         1
        ],
        [
         "from",
         1
        ],
        [
         "used,",
         1
        ],
        [
         "More",
         1
        ],
        [
         "Richard",
         1
        ],
        [
         "type",
         1
        ],
        [
         "fill",
         1
        ],
        [
         "case,",
         1
        ],
        [
         "Miles",
         1
        ],
        [
         "Remark:",
         1
        ],
        [
         "males,",
         1
        ],
        [
         "patient",
         1
        ],
        [
         "listed",
         1
        ],
        [
         "hospital",
         1
        ],
        [
         "City,",
         1
        ],
        [
         "U.S.",
         1
        ],
        [
         "\"Janie",
         1
        ],
        [
         "UK",
         1
        ],
        [
         "male",
         1
        ],
        [
         "Kansas",
         1
        ],
        [
         "known",
         1
        ],
        [
         "child",
         1
        ],
        [
         "been",
         1
        ],
        [
         "where",
         1
        ],
        [
         "https://www.online-convert.com/file-type",
         1
        ],
        [
         "Purpose:",
         1
        ],
        [
         "series.",
         1
        ],
        [
         "several",
         1
        ],
        [
         "an",
         1
        ],
        [
         "including",
         1
        ],
        [
         "itself,",
         1
        ],
        [
         "well",
         1
        ],
        [
         "culture,",
         1
        ],
        [
         "For",
         1
        ],
        [
         "Kingdom",
         1
        ],
        [
         "\"Doe\"",
         1
        ],
        [
         "Stiles",
         1
        ],
        [
         "This",
         1
        ],
        [
         "notorious",
         1
        ],
        [
         "New",
         1
        ],
        [
         "English-speaking",
         1
        ],
        [
         "Missouri,",
         1
        ],
        [
         "non-gender-specifically",
         1
        ],
        [
         "if",
         1
        ],
        [
         "Jane",
         1
        ],
        [
         "early",
         1
        ],
        [
         "this",
         1
        ],
        [
         "Australia",
         1
        ],
        [
         "21",
         1
        ],
        [
         "Major",
         1
        ],
        [
         "information",
         1
        ],
        [
         "has",
         1
        ],
        [
         "females,",
         1
        ],
        [
         "first",
         1
        ],
        [
         "test",
         1
        ],
        [
         "license",
         1
        ],
        [
         "true",
         1
        ],
        [
         "contexts",
         1
        ],
        [
         "form.",
         1
        ],
        [
         "unidentified",
         1
        ],
        [
         "Frank",
         1
        ],
        [
         "Feel",
         1
        ],
        [
         "Roe\"",
         1
        ],
        [
         "Doe\"s)",
         1
        ],
        [
         "share",
         1
        ],
        [
         "Bloggs",
         1
        ],
        [
         "files:",
         1
        ],
        [
         "address",
         1
        ],
        [
         "frequently",
         1
        ],
        [
         "called",
         1
        ]
       ],
       "datasetInfos": [],
       "dbfsResultPath": null,
       "isJsonSchema": true,
       "metadata": {},
       "overflow": false,
       "plotOptions": {
        "customPlotOptions": {},
        "displayType": "table",
        "pivotAggregation": null,
        "pivotColumns": null,
        "xColumns": null,
        "yColumns": null
       },
       "removedWidgets": [],
       "schema": [
        {
         "metadata": "{}",
         "name": "word",
         "type": "\"string\""
        },
        {
         "metadata": "{}",
         "name": "count",
         "type": "\"long\""
        }
       ],
       "type": "table"
      }
     },
     "output_type": "display_data"
    }
   ],
   "source": [
    "from pyspark.sql.functions import explode,split,col\n",
    "\n",
    "df_count=(\n",
    "  df.withColumn('word', explode(split(col('value'), ' ')))\n",
    "    .groupBy('word')\n",
    "    .count()\n",
    "    .sort('count', ascending=False)\n",
    ")\n",
    "\n",
    "df_count.display()"
   ]
  },
  {
   "cell_type": "code",
   "execution_count": 0,
   "metadata": {
    "application/vnd.databricks.v1+cell": {
     "cellMetadata": {
      "byteLimit": 2048000,
      "rowLimit": 10000
     },
     "inputWidgets": {},
     "nuid": "9b02dd90-8d72-484f-a726-57c19d0aa77d",
     "showTitle": false,
     "tableResultSettingsMap": {},
     "title": ""
    }
   },
   "outputs": [],
   "source": [
    "from pyspark.sql.types import FloatType, ArrayType, StringType\n",
    "\n",
    "\n",
    "@udf(ArrayType(ArrayType(StringType())))\n",
    "def count_words(a: list):\n",
    "  word_set = set(a)\n",
    "  # create your frequency dictionary\n",
    "  freq = []\n",
    "  # iterate through them, once per unique word.\n",
    "  for word in word_set:\n",
    "    freq.append([word,a.count(word)])\n",
    "    \n",
    "  return list(freq)"
   ]
  },
  {
   "cell_type": "code",
   "execution_count": 0,
   "metadata": {
    "application/vnd.databricks.v1+cell": {
     "cellMetadata": {
      "byteLimit": 2048000,
      "rowLimit": 10000
     },
     "inputWidgets": {},
     "nuid": "49ac42dc-4d9d-453e-bcab-f38b6b8725ec",
     "showTitle": false,
     "tableResultSettingsMap": {},
     "title": ""
    }
   },
   "outputs": [
    {
     "output_type": "display_data",
     "data": {
      "text/html": [
       "<style scoped>\n",
       "  .table-result-container {\n",
       "    max-height: 300px;\n",
       "    overflow: auto;\n",
       "  }\n",
       "  table, th, td {\n",
       "    border: 1px solid black;\n",
       "    border-collapse: collapse;\n",
       "  }\n",
       "  th, td {\n",
       "    padding: 5px;\n",
       "  }\n",
       "  th {\n",
       "    text-align: left;\n",
       "  }\n",
       "</style><div class='table-result-container'><table class='table-result'><thead style='background-color: white'><tr><th>word</th><th>count</th></tr></thead><tbody><tr><td>or</td><td>7</td></tr><tr><td>in</td><td>6</td></tr><tr><td>in</td><td>6</td></tr><tr><td>John</td><td>6</td></tr><tr><td>Doe</td><td>6</td></tr><tr><td>Doe\"</td><td>5</td></tr><tr><td>used</td><td>5</td></tr><tr><td>to</td><td>5</td></tr><tr><td>a</td><td>5</td></tr><tr><td>for</td><td>4</td></tr><tr><td>the</td><td>4</td></tr><tr><td>names</td><td>4</td></tr><tr><td>is</td><td>4</td></tr><tr><td>the</td><td>4</td></tr><tr><td>may</td><td>4</td></tr><tr><td>be</td><td>4</td></tr><tr><td>and</td><td>4</td></tr><tr><td>or</td><td>4</td></tr><tr><td>are</td><td>4</td></tr><tr><td>as</td><td>3</td></tr><tr><td>and</td><td>3</td></tr><tr><td>The</td><td>3</td></tr><tr><td>a</td><td>3</td></tr><tr><td>are</td><td>3</td></tr><tr><td>name</td><td>3</td></tr><tr><td>is</td><td>3</td></tr><tr><td>as</td><td>3</td></tr><tr><td>etc.</td><td>3</td></tr><tr><td>to</td><td>3</td></tr><tr><td>in</td><td>3</td></tr><tr><td>John</td><td>3</td></tr><tr><td>/</td><td>3</td></tr><tr><td>Doe.</td><td>3</td></tr><tr><td>\"Jane</td><td>2</td></tr><tr><td>to</td><td>2</td></tr><tr><td>\"John</td><td>2</td></tr><tr><td>legal</td><td>2</td></tr><tr><td>whose</td><td>2</td></tr><tr><td>identity</td><td>2</td></tr><tr><td>United</td><td>2</td></tr><tr><td>of</td><td>2</td></tr><tr><td>as</td><td>2</td></tr><tr><td>used</td><td>2</td></tr><tr><td>Joe</td><td>2</td></tr><tr><td>or</td><td>2</td></tr><tr><td>Public,</td><td>2</td></tr><tr><td>other</td><td>2</td></tr><tr><td>also</td><td>2</td></tr><tr><td>fictional</td><td>2</td></tr><tr><td>Doe</td><td>2</td></tr><tr><td>example</td><td>2</td></tr><tr><td>cited</td><td>2</td></tr><tr><td>used</td><td>2</td></tr><tr><td>baby</td><td>2</td></tr><tr><td>a</td><td>2</td></tr><tr><td>unknown</td><td>2</td></tr><tr><td>Other</td><td>2</td></tr><tr><td>anonymous</td><td>2</td></tr><tr><td>case</td><td>2</td></tr><tr><td>the</td><td>2</td></tr><tr><td>referred</td><td>2</td></tr><tr><td>labelled</td><td>2</td></tr><tr><td>Doe,</td><td>2</td></tr><tr><td>\"John</td><td>2</td></tr><tr><td>parties</td><td>2</td></tr><tr><td>murder</td><td>2</td></tr><tr><td>Roe</td><td>2</td></tr><tr><td>to</td><td>2</td></tr><tr><td>the</td><td>2</td></tr><tr><td>TXT</td><td>1</td></tr><tr><td>test</td><td>1</td></tr><tr><td>file</td><td>1</td></tr><tr><td>this</td><td>1</td></tr><tr><td>of</td><td>1</td></tr><tr><td>file</td><td>1</td></tr><tr><td>Provide</td><td>1</td></tr><tr><td>example</td><td>1</td></tr><tr><td>Purpose:</td><td>1</td></tr><tr><td>type</td><td>1</td></tr><tr><td>type:</td><td>1</td></tr><tr><td>TXT</td><td>1</td></tr><tr><td>Document</td><td>1</td></tr><tr><td>file</td><td>1</td></tr><tr><td>Version:</td><td>1</td></tr><tr><td>1.0</td><td>1</td></tr><tr><td>Remark:</td><td>1</td></tr><tr><td></td><td>1</td></tr><tr><td>content:</td><td>1</td></tr><tr><td>Example</td><td>1</td></tr><tr><td>case,</td><td>1</td></tr><tr><td>instead,</td><td>1</td></tr><tr><td>UK</td><td>1</td></tr><tr><td>Kingdom</td><td>1</td></tr><tr><td>but</td><td>1</td></tr><tr><td>must</td><td>1</td></tr><tr><td>of</td><td>1</td></tr><tr><td>females,</td><td>1</td></tr><tr><td>hospital</td><td>1</td></tr><tr><td>New</td><td>1</td></tr><tr><td>itself,</td><td>1</td></tr><tr><td>just</td><td>1</td></tr><tr><td>\"Doe\"</td><td>1</td></tr><tr><td>placeholder</td><td>1</td></tr><tr><td>withheld</td><td>1</td></tr><tr><td>Smith</td><td>1</td></tr><tr><td>widely</td><td>1</td></tr><tr><td>Bloggs</td><td>1</td></tr><tr><td>rarely</td><td>1</td></tr><tr><td>Roe\"</td><td>1</td></tr><tr><td>Joe</td><td>1</td></tr><tr><td>Zealand.</td><td>1</td></tr><tr><td>males,</td><td>1</td></tr><tr><td>practice</td><td>1</td></tr><tr><td>where</td><td>1</td></tr><tr><td>action,</td><td>1</td></tr><tr><td>originates.</td><td>1</td></tr><tr><td>This</td><td>1</td></tr><tr><td>refer</td><td>1</td></tr><tr><td>other</td><td>1</td></tr><tr><td>countries</td><td>1</td></tr><tr><td>States</td><td>1</td></tr><tr><td>also</td><td>1</td></tr><tr><td>patient</td><td>1</td></tr><tr><td>use</td><td>1</td></tr><tr><td>well</td><td>1</td></tr><tr><td>\"Janie</td><td>1</td></tr><tr><td>Canada,</td><td>1</td></tr><tr><td>English-speaking</td><td>1</td></tr><tr><td>unknown.</td><td>1</td></tr><tr><td>\"Jonnie</td><td>1</td></tr><tr><td>unknown</td><td>1</td></tr><tr><td>including</td><td>1</td></tr><tr><td>party</td><td>1</td></tr><tr><td>children,</td><td>1</td></tr><tr><td>acorpse</td><td>1</td></tr><tr><td>context</td><td>1</td></tr><tr><td>discussion.</td><td>1</td></tr><tr><td>non-gender-specifically</td><td>1</td></tr><tr><td>true</td><td>1</td></tr><tr><td>be</td><td>1</td></tr><tr><td>John</td><td>1</td></tr><tr><td>Australia</td><td>1</td></tr><tr><td>from</td><td>1</td></tr><tr><td></td><td>1</td></tr><tr><td>was</td><td>1</td></tr><tr><td>provide</td><td>1</td></tr><tr><td>how</td><td>1</td></tr><tr><td>well,</td><td>1</td></tr><tr><td>for</td><td>1</td></tr><tr><td>with</td><td>1</td></tr><tr><td>form</td><td>1</td></tr><tr><td>Capra</td><td>1</td></tr><tr><td>fill</td><td>1</td></tr><tr><td>first</td><td>1</td></tr><tr><td>Doe,</td><td>1</td></tr><tr><td>Q.</td><td>1</td></tr><tr><td>Doe.</td><td>1</td></tr><tr><td>information</td><td>1</td></tr><tr><td>For</td><td>1</td></tr><tr><td>Smith</td><td>1</td></tr><tr><td>example,</td><td>1</td></tr><tr><td>popular</td><td>1</td></tr><tr><td>series.</td><td>1</td></tr><tr><td>on</td><td>1</td></tr><tr><td>an</td><td>1</td></tr><tr><td>Bloggs.</td><td>1</td></tr><tr><td>known</td><td>1</td></tr><tr><td>The</td><td>1</td></tr><tr><td>sometimes</td><td>1</td></tr><tr><td>similar</td><td>1</td></tr><tr><td>Meet</td><td>1</td></tr><tr><td>form.</td><td>1</td></tr><tr><td>listed</td><td>1</td></tr><tr><td>refer</td><td>1</td></tr><tr><td>culture,</td><td>1</td></tr><tr><td>often</td><td>1</td></tr><tr><td>Frank</td><td>1</td></tr><tr><td>typical</td><td>1</td></tr><tr><td>manner</td><td>1</td></tr><tr><td>film</td><td>1</td></tr><tr><td>Great</td><td>1</td></tr><tr><td>frequently</td><td>1</td></tr><tr><td>Britain</td><td>1</td></tr><tr><td>television</td><td>1</td></tr><tr><td>address</td><td>1</td></tr><tr><td>contexts</td><td>1</td></tr><tr><td>2002</td><td>1</td></tr><tr><td>American</td><td>1</td></tr><tr><td>male</td><td>1</td></tr><tr><td>along</td><td>1</td></tr><tr><td></td><td>1</td></tr><tr><td>surnames</td><td>1</td></tr><tr><td>for</td><td>1</td></tr><tr><td>(the</td><td>1</td></tr><tr><td>they</td><td>1</td></tr><tr><td>(numbered)</td><td>1</td></tr><tr><td>notorious</td><td>1</td></tr><tr><td>Missouri,</td><td>1</td></tr><tr><td>several</td><td>1</td></tr><tr><td>A</td><td>1</td></tr><tr><td>been</td><td>1</td></tr><tr><td>Additional</td><td>1</td></tr><tr><td>action,</td><td>1</td></tr><tr><td>James</td><td>1</td></tr><tr><td>victims</td><td>1</td></tr><tr><td>Doe\"s)</td><td>1</td></tr><tr><td>whose</td><td>1</td></tr><tr><td>simply</td><td>1</td></tr><tr><td>Judy</td><td>1</td></tr><tr><td>female</td><td>1</td></tr><tr><td>called</td><td>1</td></tr><tr><td>now</td><td>1</td></tr><tr><td>example,</td><td>1</td></tr><tr><td>alternatives</td><td>1</td></tr><tr><td>Precious</td><td>1</td></tr><tr><td>Roe\".</td><td>1</td></tr><tr><td>other</td><td>1</td></tr><tr><td>possible</td><td>1</td></tr><tr><td>variants</td><td>1</td></tr><tr><td>cases.</td><td>1</td></tr><tr><td>Baby</td><td>1</td></tr><tr><td>such</td><td>1</td></tr><tr><td>v.</td><td>1</td></tr><tr><td>with</td><td>1</td></tr><tr><td>#2,</td><td>1</td></tr><tr><td>21</td><td>1</td></tr><tr><td>Miles</td><td>1</td></tr><tr><td>Cali</td><td>1</td></tr><tr><td>used,</td><td>1</td></tr><tr><td>Major</td><td>1</td></tr><tr><td>avoid</td><td>1</td></tr><tr><td>victim</td><td>1</td></tr><tr><td>some</td><td>1</td></tr><tr><td>However,</td><td>1</td></tr><tr><td>Stiles</td><td>1</td></tr><tr><td>if</td><td>1</td></tr><tr><td>referenced,</td><td>1</td></tr><tr><td>identity</td><td>1</td></tr><tr><td>American</td><td>1</td></tr><tr><td>Operation</td><td>1</td></tr><tr><td>simultaneously;</td><td>1</td></tr><tr><td>Kansas</td><td>1</td></tr><tr><td>of</td><td>1</td></tr><tr><td>has</td><td>1</td></tr><tr><td>City,</td><td>1</td></tr><tr><td>Delego</td><td>1</td></tr><tr><td>specific</td><td>1</td></tr><tr><td>unidentified</td><td>1</td></tr><tr><td>#1,</td><td>1</td></tr><tr><td>confusion,</td><td>1</td></tr><tr><td>Princess</td><td>1</td></tr><tr><td>rarely</td><td>1</td></tr><tr><td>persons</td><td>1</td></tr><tr><td>federal</td><td>1</td></tr><tr><td>child</td><td>1</td></tr><tr><td>Jane</td><td>1</td></tr><tr><td>Mary</td><td>1</td></tr><tr><td>If</td><td>1</td></tr><tr><td>Richard</td><td>1</td></tr><tr><td>two</td><td>1</td></tr><tr><td>is</td><td>1</td></tr><tr><td>Poe</td><td>1</td></tr><tr><td>Similarly,</td><td>1</td></tr><tr><td>early</td><td>1</td></tr><tr><td>U.S.</td><td>1</td></tr><tr><td></td><td>1</td></tr><tr><td></td><td>1</td></tr><tr><td></td><td>1</td></tr><tr><td>by</td><td>1</td></tr><tr><td>created</td><td>1</td></tr><tr><td>File</td><td>1</td></tr><tr><td>https://www.online-convert.com</td><td>1</td></tr><tr><td>example</td><td>1</td></tr><tr><td>files:</td><td>1</td></tr><tr><td>https://www.online-convert.com/file-type</td><td>1</td></tr><tr><td>More</td><td>1</td></tr><tr><td>(https://en.wikipedia.org/wiki/John_Doe)</td><td>1</td></tr><tr><td>Text</td><td>1</td></tr><tr><td>content:</td><td>1</td></tr><tr><td>Wikipedia</td><td>1</td></tr><tr><td>of</td><td>1</td></tr><tr><td>Example</td><td>1</td></tr><tr><td>Attribution-ShareAlike</td><td>1</td></tr><tr><td>License:</td><td>1</td></tr><tr><td>4.0</td><td>1</td></tr><tr><td>(https://creativecommons.org/licenses/by-sa/4.0/)</td><td>1</td></tr><tr><td></td><td>1</td></tr><tr><td>Feel</td><td>1</td></tr><tr><td>share</td><td>1</td></tr><tr><td>free</td><td>1</td></tr><tr><td>use</td><td>1</td></tr><tr><td>above.</td><td>1</td></tr><tr><td>license</td><td>1</td></tr><tr><td>file</td><td>1</td></tr><tr><td>according</td><td>1</td></tr><tr><td>and</td><td>1</td></tr></tbody></table></div>"
      ]
     },
     "metadata": {
      "application/vnd.databricks.v1+output": {
       "addedWidgets": {},
       "aggData": [],
       "aggError": "",
       "aggOverflow": false,
       "aggSchema": [],
       "aggSeriesLimitReached": false,
       "aggType": "",
       "arguments": {},
       "columnCustomDisplayInfos": {},
       "data": [
        [
         "or",
         "7"
        ],
        [
         "in",
         "6"
        ],
        [
         "in",
         "6"
        ],
        [
         "John",
         "6"
        ],
        [
         "Doe",
         "6"
        ],
        [
         "Doe\"",
         "5"
        ],
        [
         "used",
         "5"
        ],
        [
         "to",
         "5"
        ],
        [
         "a",
         "5"
        ],
        [
         "for",
         "4"
        ],
        [
         "the",
         "4"
        ],
        [
         "names",
         "4"
        ],
        [
         "is",
         "4"
        ],
        [
         "the",
         "4"
        ],
        [
         "may",
         "4"
        ],
        [
         "be",
         "4"
        ],
        [
         "and",
         "4"
        ],
        [
         "or",
         "4"
        ],
        [
         "are",
         "4"
        ],
        [
         "as",
         "3"
        ],
        [
         "and",
         "3"
        ],
        [
         "The",
         "3"
        ],
        [
         "a",
         "3"
        ],
        [
         "are",
         "3"
        ],
        [
         "name",
         "3"
        ],
        [
         "is",
         "3"
        ],
        [
         "as",
         "3"
        ],
        [
         "etc.",
         "3"
        ],
        [
         "to",
         "3"
        ],
        [
         "in",
         "3"
        ],
        [
         "John",
         "3"
        ],
        [
         "/",
         "3"
        ],
        [
         "Doe.",
         "3"
        ],
        [
         "\"Jane",
         "2"
        ],
        [
         "to",
         "2"
        ],
        [
         "\"John",
         "2"
        ],
        [
         "legal",
         "2"
        ],
        [
         "whose",
         "2"
        ],
        [
         "identity",
         "2"
        ],
        [
         "United",
         "2"
        ],
        [
         "of",
         "2"
        ],
        [
         "as",
         "2"
        ],
        [
         "used",
         "2"
        ],
        [
         "Joe",
         "2"
        ],
        [
         "or",
         "2"
        ],
        [
         "Public,",
         "2"
        ],
        [
         "other",
         "2"
        ],
        [
         "also",
         "2"
        ],
        [
         "fictional",
         "2"
        ],
        [
         "Doe",
         "2"
        ],
        [
         "example",
         "2"
        ],
        [
         "cited",
         "2"
        ],
        [
         "used",
         "2"
        ],
        [
         "baby",
         "2"
        ],
        [
         "a",
         "2"
        ],
        [
         "unknown",
         "2"
        ],
        [
         "Other",
         "2"
        ],
        [
         "anonymous",
         "2"
        ],
        [
         "case",
         "2"
        ],
        [
         "the",
         "2"
        ],
        [
         "referred",
         "2"
        ],
        [
         "labelled",
         "2"
        ],
        [
         "Doe,",
         "2"
        ],
        [
         "\"John",
         "2"
        ],
        [
         "parties",
         "2"
        ],
        [
         "murder",
         "2"
        ],
        [
         "Roe",
         "2"
        ],
        [
         "to",
         "2"
        ],
        [
         "the",
         "2"
        ],
        [
         "TXT",
         "1"
        ],
        [
         "test",
         "1"
        ],
        [
         "file",
         "1"
        ],
        [
         "this",
         "1"
        ],
        [
         "of",
         "1"
        ],
        [
         "file",
         "1"
        ],
        [
         "Provide",
         "1"
        ],
        [
         "example",
         "1"
        ],
        [
         "Purpose:",
         "1"
        ],
        [
         "type",
         "1"
        ],
        [
         "type:",
         "1"
        ],
        [
         "TXT",
         "1"
        ],
        [
         "Document",
         "1"
        ],
        [
         "file",
         "1"
        ],
        [
         "Version:",
         "1"
        ],
        [
         "1.0",
         "1"
        ],
        [
         "Remark:",
         "1"
        ],
        [
         "",
         "1"
        ],
        [
         "content:",
         "1"
        ],
        [
         "Example",
         "1"
        ],
        [
         "case,",
         "1"
        ],
        [
         "instead,",
         "1"
        ],
        [
         "UK",
         "1"
        ],
        [
         "Kingdom",
         "1"
        ],
        [
         "but",
         "1"
        ],
        [
         "must",
         "1"
        ],
        [
         "of",
         "1"
        ],
        [
         "females,",
         "1"
        ],
        [
         "hospital",
         "1"
        ],
        [
         "New",
         "1"
        ],
        [
         "itself,",
         "1"
        ],
        [
         "just",
         "1"
        ],
        [
         "\"Doe\"",
         "1"
        ],
        [
         "placeholder",
         "1"
        ],
        [
         "withheld",
         "1"
        ],
        [
         "Smith",
         "1"
        ],
        [
         "widely",
         "1"
        ],
        [
         "Bloggs",
         "1"
        ],
        [
         "rarely",
         "1"
        ],
        [
         "Roe\"",
         "1"
        ],
        [
         "Joe",
         "1"
        ],
        [
         "Zealand.",
         "1"
        ],
        [
         "males,",
         "1"
        ],
        [
         "practice",
         "1"
        ],
        [
         "where",
         "1"
        ],
        [
         "action,",
         "1"
        ],
        [
         "originates.",
         "1"
        ],
        [
         "This",
         "1"
        ],
        [
         "refer",
         "1"
        ],
        [
         "other",
         "1"
        ],
        [
         "countries",
         "1"
        ],
        [
         "States",
         "1"
        ],
        [
         "also",
         "1"
        ],
        [
         "patient",
         "1"
        ],
        [
         "use",
         "1"
        ],
        [
         "well",
         "1"
        ],
        [
         "\"Janie",
         "1"
        ],
        [
         "Canada,",
         "1"
        ],
        [
         "English-speaking",
         "1"
        ],
        [
         "unknown.",
         "1"
        ],
        [
         "\"Jonnie",
         "1"
        ],
        [
         "unknown",
         "1"
        ],
        [
         "including",
         "1"
        ],
        [
         "party",
         "1"
        ],
        [
         "children,",
         "1"
        ],
        [
         "acorpse",
         "1"
        ],
        [
         "context",
         "1"
        ],
        [
         "discussion.",
         "1"
        ],
        [
         "non-gender-specifically",
         "1"
        ],
        [
         "true",
         "1"
        ],
        [
         "be",
         "1"
        ],
        [
         "John",
         "1"
        ],
        [
         "Australia",
         "1"
        ],
        [
         "from",
         "1"
        ],
        [
         "",
         "1"
        ],
        [
         "was",
         "1"
        ],
        [
         "provide",
         "1"
        ],
        [
         "how",
         "1"
        ],
        [
         "well,",
         "1"
        ],
        [
         "for",
         "1"
        ],
        [
         "with",
         "1"
        ],
        [
         "form",
         "1"
        ],
        [
         "Capra",
         "1"
        ],
        [
         "fill",
         "1"
        ],
        [
         "first",
         "1"
        ],
        [
         "Doe,",
         "1"
        ],
        [
         "Q.",
         "1"
        ],
        [
         "Doe.",
         "1"
        ],
        [
         "information",
         "1"
        ],
        [
         "For",
         "1"
        ],
        [
         "Smith",
         "1"
        ],
        [
         "example,",
         "1"
        ],
        [
         "popular",
         "1"
        ],
        [
         "series.",
         "1"
        ],
        [
         "on",
         "1"
        ],
        [
         "an",
         "1"
        ],
        [
         "Bloggs.",
         "1"
        ],
        [
         "known",
         "1"
        ],
        [
         "The",
         "1"
        ],
        [
         "sometimes",
         "1"
        ],
        [
         "similar",
         "1"
        ],
        [
         "Meet",
         "1"
        ],
        [
         "form.",
         "1"
        ],
        [
         "listed",
         "1"
        ],
        [
         "refer",
         "1"
        ],
        [
         "culture,",
         "1"
        ],
        [
         "often",
         "1"
        ],
        [
         "Frank",
         "1"
        ],
        [
         "typical",
         "1"
        ],
        [
         "manner",
         "1"
        ],
        [
         "film",
         "1"
        ],
        [
         "Great",
         "1"
        ],
        [
         "frequently",
         "1"
        ],
        [
         "Britain",
         "1"
        ],
        [
         "television",
         "1"
        ],
        [
         "address",
         "1"
        ],
        [
         "contexts",
         "1"
        ],
        [
         "2002",
         "1"
        ],
        [
         "American",
         "1"
        ],
        [
         "male",
         "1"
        ],
        [
         "along",
         "1"
        ],
        [
         "",
         "1"
        ],
        [
         "surnames",
         "1"
        ],
        [
         "for",
         "1"
        ],
        [
         "(the",
         "1"
        ],
        [
         "they",
         "1"
        ],
        [
         "(numbered)",
         "1"
        ],
        [
         "notorious",
         "1"
        ],
        [
         "Missouri,",
         "1"
        ],
        [
         "several",
         "1"
        ],
        [
         "A",
         "1"
        ],
        [
         "been",
         "1"
        ],
        [
         "Additional",
         "1"
        ],
        [
         "action,",
         "1"
        ],
        [
         "James",
         "1"
        ],
        [
         "victims",
         "1"
        ],
        [
         "Doe\"s)",
         "1"
        ],
        [
         "whose",
         "1"
        ],
        [
         "simply",
         "1"
        ],
        [
         "Judy",
         "1"
        ],
        [
         "female",
         "1"
        ],
        [
         "called",
         "1"
        ],
        [
         "now",
         "1"
        ],
        [
         "example,",
         "1"
        ],
        [
         "alternatives",
         "1"
        ],
        [
         "Precious",
         "1"
        ],
        [
         "Roe\".",
         "1"
        ],
        [
         "other",
         "1"
        ],
        [
         "possible",
         "1"
        ],
        [
         "variants",
         "1"
        ],
        [
         "cases.",
         "1"
        ],
        [
         "Baby",
         "1"
        ],
        [
         "such",
         "1"
        ],
        [
         "v.",
         "1"
        ],
        [
         "with",
         "1"
        ],
        [
         "#2,",
         "1"
        ],
        [
         "21",
         "1"
        ],
        [
         "Miles",
         "1"
        ],
        [
         "Cali",
         "1"
        ],
        [
         "used,",
         "1"
        ],
        [
         "Major",
         "1"
        ],
        [
         "avoid",
         "1"
        ],
        [
         "victim",
         "1"
        ],
        [
         "some",
         "1"
        ],
        [
         "However,",
         "1"
        ],
        [
         "Stiles",
         "1"
        ],
        [
         "if",
         "1"
        ],
        [
         "referenced,",
         "1"
        ],
        [
         "identity",
         "1"
        ],
        [
         "American",
         "1"
        ],
        [
         "Operation",
         "1"
        ],
        [
         "simultaneously;",
         "1"
        ],
        [
         "Kansas",
         "1"
        ],
        [
         "of",
         "1"
        ],
        [
         "has",
         "1"
        ],
        [
         "City,",
         "1"
        ],
        [
         "Delego",
         "1"
        ],
        [
         "specific",
         "1"
        ],
        [
         "unidentified",
         "1"
        ],
        [
         "#1,",
         "1"
        ],
        [
         "confusion,",
         "1"
        ],
        [
         "Princess",
         "1"
        ],
        [
         "rarely",
         "1"
        ],
        [
         "persons",
         "1"
        ],
        [
         "federal",
         "1"
        ],
        [
         "child",
         "1"
        ],
        [
         "Jane",
         "1"
        ],
        [
         "Mary",
         "1"
        ],
        [
         "If",
         "1"
        ],
        [
         "Richard",
         "1"
        ],
        [
         "two",
         "1"
        ],
        [
         "is",
         "1"
        ],
        [
         "Poe",
         "1"
        ],
        [
         "Similarly,",
         "1"
        ],
        [
         "early",
         "1"
        ],
        [
         "U.S.",
         "1"
        ],
        [
         "",
         "1"
        ],
        [
         "",
         "1"
        ],
        [
         "",
         "1"
        ],
        [
         "by",
         "1"
        ],
        [
         "created",
         "1"
        ],
        [
         "File",
         "1"
        ],
        [
         "https://www.online-convert.com",
         "1"
        ],
        [
         "example",
         "1"
        ],
        [
         "files:",
         "1"
        ],
        [
         "https://www.online-convert.com/file-type",
         "1"
        ],
        [
         "More",
         "1"
        ],
        [
         "(https://en.wikipedia.org/wiki/John_Doe)",
         "1"
        ],
        [
         "Text",
         "1"
        ],
        [
         "content:",
         "1"
        ],
        [
         "Wikipedia",
         "1"
        ],
        [
         "of",
         "1"
        ],
        [
         "Example",
         "1"
        ],
        [
         "Attribution-ShareAlike",
         "1"
        ],
        [
         "License:",
         "1"
        ],
        [
         "4.0",
         "1"
        ],
        [
         "(https://creativecommons.org/licenses/by-sa/4.0/)",
         "1"
        ],
        [
         "",
         "1"
        ],
        [
         "Feel",
         "1"
        ],
        [
         "share",
         "1"
        ],
        [
         "free",
         "1"
        ],
        [
         "use",
         "1"
        ],
        [
         "above.",
         "1"
        ],
        [
         "license",
         "1"
        ],
        [
         "file",
         "1"
        ],
        [
         "according",
         "1"
        ],
        [
         "and",
         "1"
        ]
       ],
       "datasetInfos": [],
       "dbfsResultPath": null,
       "isJsonSchema": true,
       "metadata": {},
       "overflow": false,
       "plotOptions": {
        "customPlotOptions": {},
        "displayType": "table",
        "pivotAggregation": null,
        "pivotColumns": null,
        "xColumns": null,
        "yColumns": null
       },
       "removedWidgets": [],
       "schema": [
        {
         "metadata": "{}",
         "name": "word",
         "type": "\"string\""
        },
        {
         "metadata": "{}",
         "name": "count",
         "type": "\"string\""
        }
       ],
       "type": "table"
      }
     },
     "output_type": "display_data"
    }
   ],
   "source": [
    "from pyspark.sql.functions import explode\n",
    "\n",
    "\n",
    "df_count_word=(\n",
    "  df.withColumn('wordCount',explode(count_words(split(col('value'), ' '))))\n",
    " .withColumn('word',col(\"wordCount\")[0])\n",
    " .withColumn('count',col(\"wordCount\")[1])\n",
    " .drop(\"value\",\"wordCount\")\n",
    " .sort('count', ascending=False)\n",
    ")\n",
    "\n",
    "df_count_word.display()    "
   ]
  }
 ],
 "metadata": {
  "application/vnd.databricks.v1+notebook": {
   "dashboards": [],
   "environmentMetadata": null,
   "language": "python",
   "notebookMetadata": {
    "mostRecentlyExecutedCommandWithImplicitDF": {
     "commandId": 911457415356482,
     "dataframes": [
      "_sqldf"
     ]
    },
    "pythonIndentUnit": 2
   },
   "notebookName": "word_count",
   "widgets": {}
  }
 },
 "nbformat": 4,
 "nbformat_minor": 0
}
